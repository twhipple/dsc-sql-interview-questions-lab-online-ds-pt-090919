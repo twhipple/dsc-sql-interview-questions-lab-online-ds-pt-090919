{
 "cells": [
  {
   "cell_type": "markdown",
   "metadata": {},
   "source": [
    "# SQL Interview Questions - Lab\n",
    "\n",
    "## Introduction\n",
    "\n",
    "In this lab, we'll test our SQL skills against some real-world interview questions from major companies!\n",
    "\n",
    "## Objectives\n",
    "\n",
    "You will be able to:\n",
    "\n",
    "* Write SQL queries to filter and order results\n",
    "* Decide and perform whichever type of join is best for retrieving desired data\n",
    "* Write subqueries to decompose complex queries\n",
    "\n",
    "## Getting Started\n",
    "\n",
    "In this lab, we'll see four different interview questions that test your SQL knowledge. We didn't write these questions -- instead, we found them out in the real-world. These are questions that have been used in the past by major technology companies such as Facebook, Amazon, and Twitter. Our goal here isn't to memorize the questions or anything like that -- after all, it's extremely unlikely that these questions are still in use, now that they've become publicly available on the interwebs. Instead, our goal is to treat these questions as if they are the real thing, and give us some insight into the types of questions we'll need to be able to answer in order pass an interview involving SQL. \n",
    "\n",
    "If these questions seem hard to you, don't sweat it, they're supposed to be tough! These are meant to help you identify any areas of knowledge where you still need to grow! Use these questions as a way to see where your SQL knowledge is strong, and where it's a bit weak. Then, go study and **practice** in the areas where you still need work!\n",
    "\n",
    "### A Note on Answering These Questions\n",
    "\n",
    "Since these are interview questions, they'll almost always be posed as hypotheticals. This means that you won't have a real database to work with and test your code on. This also means that there are multiple different solutions to any given problem listed here. Be sure to doublecheck the code you write for bugs and errors. It's much harder to write bug-free code when you aren't able to test it against a database!\n",
    "\n",
    "If these questions seem hard, that's normal. These are real questions that have been reported to online forums from job seekers at major companies. Obviously, it's unlikely that they're still in use at these companies, but they still represent a great way for us to test our skills against the kinds of questions we can expect to be asked in an interview!\n",
    "\n",
    "## Question 1\n",
    "\n",
    "From Facebook:\n",
    "\n",
    "Assume we have a table of employee information, which includes salary information. Write a query to find the names and salaries of the top 5 highest paid employees, in descending order."
   ]
  },
  {
   "cell_type": "code",
   "execution_count": null,
   "metadata": {},
   "outputs": [],
   "source": [
    "# From Memory\n",
    "import pandas as pd\n",
    "import sqlite3\n",
    "conn = connect\n",
    "c = conn.curser\n",
    "c.execute(\"\"\"SELECT employeeName, salary\n",
    "             FROM employees\n",
    "             ORDER BY COUNT(salary) DESC;\"\"\").fetchAll()"
   ]
  },
  {
   "cell_type": "code",
   "execution_count": null,
   "metadata": {},
   "outputs": [],
   "source": [
    "# With Copy/Paste\n",
    "import sqlite3\n",
    "import pandas as pd\n",
    "conn = sqlite3.Connection('data.sqlite')\n",
    "cur = conn.cursor()\n",
    "cur.execute(\"\"\"SELECT employeeName, salary\n",
    "               FROM offices\n",
    "               ORDER BY salary DESC\n",
    "               LIMIT 5;\"\"\")\n",
    "df = pd.DataFrame(cur.fetchall())\n",
    "df.columns = [x[0] for x in cur.description]\n",
    "df.head()"
   ]
  },
  {
   "cell_type": "code",
   "execution_count": null,
   "metadata": {},
   "outputs": [],
   "source": [
    "# Their code\n",
    "\"\"\"\n",
    "SELECT name, salary from Employees\n",
    "ORDER BY salary DESC\n",
    "LIMIT 5;\n",
    "\"\"\""
   ]
  },
  {
   "cell_type": "markdown",
   "metadata": {},
   "source": [
    "## Question 2\n",
    "\n",
    "From Amazon:\n",
    "\n",
    "Assume we have two SQL tables: `authors` and `books`. The authors table has a few million rows, and looks like this: \n",
    "\n",
    "| author_name | book_name |\n",
    "|:-----------:|:---------:|\n",
    "|   author_1  |   book_1  |\n",
    "|   author_1  |   book_2  |\n",
    "|   author_2  |   book_3  |\n",
    "|   author_2  |   book_4  |\n",
    "|   author_2  |   book_5  |\n",
    "|   author_3  |   book_6  |\n",
    "\n",
    "The books dataset also has a few million rows, and looks like this:\n",
    "\n",
    "| book_name | copies_sold |\n",
    "|:---------:|:-----------:|\n",
    "|   book_1  |    10000    |\n",
    "|   book_2  |     2575    |\n",
    "|   book_3  |    60000    |\n",
    "|   book_4  |    98000    |\n",
    "|   book_5  |     5250    |\n",
    "|   book_6  |    19775    |\n",
    "\n",
    "Write an SQL query that shows the top 3 authors who sold the most total books. "
   ]
  },
  {
   "cell_type": "code",
   "execution_count": null,
   "metadata": {},
   "outputs": [],
   "source": [
    "# From Memory\n",
    "import pandas as pd\n",
    "import sqlite3\n",
    "conn = sqlite3.Connect('Amazon.data')\n",
    "conn = connect\n",
    "cur = conn.cursor\n",
    "cur.execute(\"\"\"SELECT author_name, COUNT(copies_sold) AS total_sold\n",
    "               FROM authors\n",
    "               JOIN bookes\n",
    "               USING book_name\n",
    "               GROUP BY author_name\n",
    "               ORDER BY total_sold;\"\"\")\n",
    "df = sqlite3Connect('Amazon.data').fetchall()\n",
    "df.pd\n",
    "df.head()\n"
   ]
  },
  {
   "cell_type": "code",
   "execution_count": null,
   "metadata": {},
   "outputs": [],
   "source": [
    "# My code with copy/paste\n",
    "import sqlite3\n",
    "import pandas as pd\n",
    "conn = sqlite3.Connection('Amazon.data')\n",
    "cur = conn.cursor()\n",
    "cur.execute(\"\"\"SELECT author_name, COUNT(copies_sold) AS total_sold\n",
    "               FROM authors\n",
    "               JOIN bookes\n",
    "               USING(book_name)\n",
    "               GROUP BY author_name\n",
    "               ORDER BY total_sold DESC;\"\"\")\n",
    "df = pd.DataFrame(cur.fetchall())\n",
    "df.columns = [x[0] for x in cur.description]\n",
    "df.head(3)"
   ]
  },
  {
   "cell_type": "code",
   "execution_count": null,
   "metadata": {},
   "outputs": [],
   "source": [
    "# Their code\n",
    "\"\"\"\n",
    "SELECT a.author_name, SUM(b.copies_sold) as total_sold from Authors a\n",
    "JOIN Books b ON a.book_name = b.book_name\n",
    "GROUP BY a.author_name\n",
    "ORDER BY total_sold DESC\n",
    "LIMIT 3;\n",
    "\"\"\""
   ]
  },
  {
   "cell_type": "markdown",
   "metadata": {},
   "source": [
    "## Question 3\n",
    "\n",
    "From Amazon:\n",
    "\n",
    "Assume you have two tables, `customers` and `orders`. Write a SQL query to select all customers who purchased at least 2 items on two separate days. "
   ]
  },
  {
   "cell_type": "code",
   "execution_count": null,
   "metadata": {},
   "outputs": [],
   "source": [
    "# From Memory\n",
    "import pandas as pd\n",
    "import sqlite3\n",
    "conn = sqlite3.Connection('Amazon.data')\n",
    "cur = conn.cursor()\n",
    "cur.execute(\"\"\"SELECT customers, data_purchased\n",
    "               FROM customers\n",
    "               JOIN orders\n",
    "               USING purchases\n",
    "               GROUP BY customers\n",
    "               WHERE orders > 2     \n",
    "            ;\"\"\")\n",
    "df = pd.Datafrom(cur.fetchall())\n",
    "df.columns = x[0] for x in cur.description\n",
    "df.head()"
   ]
  },
  {
   "cell_type": "code",
   "execution_count": null,
   "metadata": {},
   "outputs": [],
   "source": [
    "# With copy/paste\n",
    "import sqlite3\n",
    "import pandas as pd\n",
    "conn = sqlite3.Connection('Amazon.data')\n",
    "cur = conn.cursor()\n",
    "cur.execute(\"\"\"SELECT customerName, COUNT(orderNumber) AS multipleOrders, orderDate\n",
    "               FROM customers\n",
    "               JOIN orders\n",
    "               USING(customerNumber)\n",
    "               GROUP BY 1\n",
    "               HAVING multipleOrders >= 2\n",
    "               ORDER BY orderDate\n",
    "               ;\"\"\")\n",
    "df = pd.DataFrame(cur.fetchall())\n",
    "df.columns = [x[0] for x in cur.description]\n",
    "print(len(df))   #How many customers had this\n",
    "df.head()"
   ]
  },
  {
   "cell_type": "code",
   "execution_count": null,
   "metadata": {},
   "outputs": [],
   "source": [
    "# Their code\n",
    "\"\"\"\n",
    "SELECT c.name, COUNT(DISTINCT o.OrderDate) as NumOrderDates FROM (SELECT c.name, o.quantity FROM Customers c \n",
    "    JOIN Orders o ON c.orderNumber = o.OrderNumber\n",
    "    WHERE o.quantity > 1)\n",
    "WHERE NumOrderDates > 1\n",
    "\"\"\""
   ]
  },
  {
   "cell_type": "markdown",
   "metadata": {},
   "source": [
    "## Question 4\n",
    "\n",
    "From Twitter:\n",
    "\n",
    "A company uses 2 data tables, `Employee` and `Department`, to store data about its employees and departments. \n",
    "\n",
    "Table Name: Employee   \n",
    "Attributes:   \n",
    "ID Integer,   \n",
    "NAME String,   \n",
    "SALARY Integer,   \n",
    "DEPT_ID Integer   \n",
    "\n",
    "Table Name: Department   \n",
    "Attributes:   \n",
    "DEPT_ID Integer,   \n",
    "NAME String,   \n",
    "LOCATION String   \n",
    "\n",
    "Write a query to print the respective Department Name and number of employees for all departments in the Department table (even unstaffed ones). \n",
    "\n",
    "Sort your result in descending order of employees per department; if two or more departments have the same number of employees, then sort those departments alphabetically by Department Name."
   ]
  },
  {
   "cell_type": "code",
   "execution_count": null,
   "metadata": {},
   "outputs": [],
   "source": [
    "# From Memory\n",
    "import pandas as pd\n",
    "import sqlite3\n",
    "conn = sqlite3.Connection('Twitter.data')\n",
    "cur = conn.curser()\n",
    "cur.execute(\"\"\"SELECT d.NAME, COUNT(e.NAME)\n",
    "               FROM Employee AS e\n",
    "               JOIN Dempartment AS d\n",
    "               USING DEPT_ID\n",
    "               GROUP BY 1\n",
    "               ORDER BY d.NAME DESC\n",
    "                ;\"\"\")\n",
    "df = pd.DataFrame(cur.fetchall())\n",
    "df.columns = [x[0] for x in cur.description]\n",
    "df.head()"
   ]
  },
  {
   "cell_type": "code",
   "execution_count": null,
   "metadata": {},
   "outputs": [],
   "source": [
    "# My code Copy/Paste\n",
    "import sqlite3\n",
    "import pandas as pd\n",
    "conn = sqlite3.Connection('Twitter.data')\n",
    "cur = conn.cursor()\n",
    "cur.execute(\"\"\"SELECT d.NAME, COUNT(e.NAME) AS totalEmployees\n",
    "               FROM Employee AS e\n",
    "               JOIN Department AS d\n",
    "               USING(DEPT_ID)\n",
    "               GROUP BY 1\n",
    "               ORDER BY totalEmployees DESC\n",
    "               ;\"\"\")\n",
    "df = pd.DataFrame(cur.fetchall())\n",
    "df.columns = [x[0] for x in cur.description]\n",
    "print(len(df))  \n",
    "df.head()"
   ]
  },
  {
   "cell_type": "code",
   "execution_count": null,
   "metadata": {},
   "outputs": [],
   "source": [
    "# Their code\n",
    "\"\"\"\n",
    "SELECT d.name, COUNT(e.ID) as EmployeeCount \n",
    "FROM Department d \n",
    "LEFT JOIN Employee e on d.dept_id, = e.dept_id\n",
    "GROUP BY d.dept_id, d.name\n",
    "ORDER BY EmployeeCount DESC, d.name\n",
    "\"\"\""
   ]
  },
  {
   "cell_type": "markdown",
   "metadata": {},
   "source": [
    "## Summary\n",
    "\n",
    "In this lab, we tested our knowledge of SQL queries against some real-world interview questions!"
   ]
  }
 ],
 "metadata": {
  "kernelspec": {
   "display_name": "learn-env",
   "language": "python",
   "name": "learn-env"
  },
  "language_info": {
   "codemirror_mode": {
    "name": "ipython",
    "version": 3
   },
   "file_extension": ".py",
   "mimetype": "text/x-python",
   "name": "python",
   "nbconvert_exporter": "python",
   "pygments_lexer": "ipython3",
   "version": "3.6.6"
  }
 },
 "nbformat": 4,
 "nbformat_minor": 2
}
